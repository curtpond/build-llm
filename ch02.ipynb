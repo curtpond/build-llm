{
 "cells": [
  {
   "cell_type": "markdown",
   "metadata": {},
   "source": [
    "### Import data"
   ]
  },
  {
   "cell_type": "code",
   "execution_count": 12,
   "metadata": {},
   "outputs": [
    {
     "data": {
      "text/plain": [
       "('the-verdict.txt', <http.client.HTTPMessage at 0x108ffdac0>)"
      ]
     },
     "execution_count": 12,
     "metadata": {},
     "output_type": "execute_result"
    }
   ],
   "source": [
    "import urllib.request \n",
    "\n",
    "url = (\"https://raw.githubusercontent.com/rasbt/LLMs-from-scratch/main/ch02/01_main-chapter-code/\"\n",
    "       \"the-verdict.txt\")\n",
    "\n",
    "file_path = \"the-verdict.txt\"\n",
    "\n",
    "urllib.request.urlretrieve(url, file_path)"
   ]
  },
  {
   "cell_type": "markdown",
   "metadata": {},
   "source": [
    "### Read data"
   ]
  },
  {
   "cell_type": "code",
   "execution_count": 13,
   "metadata": {},
   "outputs": [
    {
     "name": "stdout",
     "output_type": "stream",
     "text": [
      "The total number of characters in the text is:  20479\n",
      "The first 100 characters in the text are:\n",
      "I HAD always thought Jack Gisburn rather a cheap genius--though a good fellow enough--so it was no \n"
     ]
    }
   ],
   "source": [
    "with open(file_path, \"r\", encoding=\"utf-8\") as f:\n",
    "    raw_text = f.read()\n",
    "\n",
    "print(\"The total number of characters in the text is: \", len(raw_text))\n",
    "print(\"The first 100 characters in the text are:\")\n",
    "print(raw_text[:99])\n",
    "    \n"
   ]
  },
  {
   "cell_type": "markdown",
   "metadata": {},
   "source": [
    "### Preprocess text (tokenization)\n"
   ]
  },
  {
   "cell_type": "code",
   "execution_count": 14,
   "metadata": {},
   "outputs": [
    {
     "name": "stdout",
     "output_type": "stream",
     "text": [
      "4690\n",
      "['I', 'HAD', 'always', 'thought', 'Jack', 'Gisburn', 'rather', 'a', 'cheap', 'genius', '--', 'though', 'a', 'good', 'fellow', 'enough', '--', 'so', 'it', 'was', 'no', 'great', 'surprise', 'to', 'me', 'to', 'hear', 'that', ',', 'in']\n"
     ]
    }
   ],
   "source": [
    "import re\n",
    "preprocessed = re.split(r'([,.:;?_!\"()\\']|--|\\s)', raw_text) # Split text into tokens\n",
    "\n",
    "preprocessed = [item.strip() for item in preprocessed if item.strip()] # Remove empty strings\n",
    "print(len(preprocessed)) # Print the number of tokens\n",
    "print(preprocessed[:30]) # Print the first 10 tokens"
   ]
  },
  {
   "cell_type": "markdown",
   "metadata": {},
   "source": [
    "### Convert tokens into token IDs\n",
    "\n"
   ]
  },
  {
   "cell_type": "code",
   "execution_count": 15,
   "metadata": {},
   "outputs": [
    {
     "name": "stdout",
     "output_type": "stream",
     "text": [
      "The total number of unique tokens in the raw text is:  1130\n"
     ]
    }
   ],
   "source": [
    "all_words = set(preprocessed)\n",
    "vocab_size = len(all_words)\n",
    "print(\"The total number of unique tokens in the raw text is: \", vocab_size)"
   ]
  },
  {
   "cell_type": "code",
   "execution_count": 18,
   "metadata": {},
   "outputs": [
    {
     "name": "stdout",
     "output_type": "stream",
     "text": [
      "('question', 0)\n",
      "('appearance', 1)\n",
      "('borne', 2)\n",
      "('anything', 3)\n",
      "('travelled', 4)\n",
      "('disguised', 5)\n",
      "('buying', 6)\n",
      "('Now', 7)\n",
      "('upstairs', 8)\n",
      "('straight', 9)\n",
      "('up-stream', 10)\n",
      "('Hang', 11)\n",
      "('look', 12)\n",
      "('hot-house', 13)\n",
      "('half-mechanically', 14)\n",
      "('just', 15)\n",
      "('poised', 16)\n",
      "('about', 17)\n",
      "('care', 18)\n",
      "('our', 19)\n",
      "('object', 20)\n",
      "('cards', 21)\n",
      "('failed', 22)\n",
      "('hardly', 23)\n",
      "('dining-room', 24)\n",
      "('self-confident', 25)\n",
      "('vista', 26)\n",
      "('chap', 27)\n",
      "('.', 28)\n",
      "('Professional', 29)\n",
      "('slight', 30)\n",
      "('grew', 31)\n",
      "('embarrassed', 32)\n",
      "('quietly', 33)\n",
      "('shall', 34)\n",
      "('fancy', 35)\n",
      "('deploring', 36)\n",
      "('dead', 37)\n",
      "('modest', 38)\n",
      "('domestic', 39)\n",
      "('insensible', 40)\n",
      "('marble', 41)\n",
      "('t', 42)\n",
      "('straddling', 43)\n",
      "('and', 44)\n",
      "('had', 45)\n",
      "('excuse', 46)\n",
      "('equanimity', 47)\n",
      "('doesn', 48)\n",
      "('garlanded', 49)\n",
      "('showed', 50)\n"
     ]
    }
   ],
   "source": [
    "vocab = {token: integer for integer, token in enumerate(all_words)}\n",
    "for i, item in enumerate(vocab.items()):\n",
    "    print(item)\n",
    "    if i >= 50: # Print only the first 50 tokens\n",
    "        break "
   ]
  }
 ],
 "metadata": {
  "kernelspec": {
   "display_name": "cx-analytics",
   "language": "python",
   "name": "python3"
  },
  "language_info": {
   "codemirror_mode": {
    "name": "ipython",
    "version": 3
   },
   "file_extension": ".py",
   "mimetype": "text/x-python",
   "name": "python",
   "nbconvert_exporter": "python",
   "pygments_lexer": "ipython3",
   "version": "3.9.16"
  }
 },
 "nbformat": 4,
 "nbformat_minor": 2
}
